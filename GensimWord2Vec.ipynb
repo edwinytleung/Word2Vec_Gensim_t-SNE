{
 "cells": [
  {
   "cell_type": "markdown",
   "metadata": {},
   "source": [
    "# Working with text"
   ]
  },
  {
   "cell_type": "markdown",
   "metadata": {},
   "source": [
    "Text is one of the most widley avaliable sources of sequential data, we can think of it either as a sequence of characters or a sequence of words.   Deep learning models can't take in text as strings, we need to convert them to a numeric form. This can be done in a few ways.\n",
    "\n",
    "* Split text into words, convert each word to a vector \n",
    "* Split text into characters, convert each character into a vector\n",
    "* Extact n-grams, and transform each n-gram into vectors.\n",
    "\n",
    "This process is know as tokenization. There are two major ways to encode these tokens:\n",
    "\n",
    "* Onehot encoding - often used for characters and sometimes words.\n",
    "* Word embeddings - often used for words or n-grams.\n",
    "\n",
    "N-grams are used more frequently in traditional NLP (Natrual langauge procesing) methods. There are many great libraies in python for NLP such as spaCy, NLTK and gensim, in this notebook we'll use gensim because it has a nice word2vec implementation."
   ]
  },
  {
   "cell_type": "markdown",
   "metadata": {},
   "source": [
    "## Onehot encoding\n",
    "\n",
    "We can perform some basic onehot encoding using python"
   ]
  },
  {
   "cell_type": "code",
   "execution_count": 17,
   "metadata": {},
   "outputs": [
    {
     "data": {
      "text/plain": [
       "{'The': 6,\n",
       " 'brown': 2,\n",
       " 'for': 0,\n",
       " 'jumped': 7,\n",
       " 'over': 1,\n",
       " 'quick': 3,\n",
       " 'the': 4,\n",
       " 'tree?': 5}"
      ]
     },
     "execution_count": 17,
     "metadata": {},
     "output_type": "execute_result"
    }
   ],
   "source": [
    "import numpy as np\n",
    "\n",
    "sentence = 'The quick brown for jumped over the tree?'\n",
    "word_list = sentence.split()\n",
    "token_index = {} #used to map word to int\n",
    "\n",
    "#use set to remove duplicate words\n",
    "for word in set(word_list):\n",
    "    if word not in token_index:\n",
    "        token_index[word] = len(token_index) \n",
    "\n",
    "token_index"
   ]
  },
  {
   "cell_type": "code",
   "execution_count": 18,
   "metadata": {},
   "outputs": [
    {
     "data": {
      "text/plain": [
       "array([[0., 0., 0., 0., 0., 0., 1., 0.],\n",
       "       [0., 0., 0., 1., 0., 0., 0., 0.],\n",
       "       [0., 0., 1., 0., 0., 0., 0., 0.],\n",
       "       [1., 0., 0., 0., 0., 0., 0., 0.],\n",
       "       [0., 0., 0., 0., 0., 0., 0., 1.],\n",
       "       [0., 1., 0., 0., 0., 0., 0., 0.],\n",
       "       [0., 0., 0., 0., 1., 0., 0., 0.],\n",
       "       [0., 0., 0., 0., 0., 1., 0., 0.]])"
      ]
     },
     "execution_count": 18,
     "metadata": {},
     "output_type": "execute_result"
    }
   ],
   "source": [
    "n_words = len(token_index.keys())\n",
    "#convert sentence to ints\n",
    "word_ints = [ token_index[word] for word in sentence.split()]\n",
    "#use sentence ints to generate onehot encodings\n",
    "np.eye(n_words)[word_ints]"
   ]
  },
  {
   "cell_type": "code",
   "execution_count": 19,
   "metadata": {},
   "outputs": [],
   "source": [
    "#try and use the above code to onehot encode characters"
   ]
  },
  {
   "cell_type": "markdown",
   "metadata": {},
   "source": [
    "## Generating Word Embeddings with Gensim\n",
    "\n",
    "\n",
    "There are many choices for NLP libraries in python including spaCy, NLTK and gensim. Today we will use gensim because it has a intuitive word2vec implementation. This implementation is highly optimized and should run very fast, even on just CPU."
   ]
  },
  {
   "cell_type": "markdown",
   "metadata": {},
   "source": [
    "## Processing text\n",
    "\n",
    "The first stage is processing text."
   ]
  },
  {
   "cell_type": "code",
   "execution_count": 20,
   "metadata": {},
   "outputs": [],
   "source": [
    "from gensim.models import Word2Vec #prebuilt word to vec implementation\n",
    "import glob #finds all pathnames matching a pattern, like regex\n",
    "import codecs #unicode support when reading files\n",
    "from multiprocessing import cpu_count #use to get number of cpus on host machine\n",
    "from gensim.utils import simple_preprocess,simple_tokenize #text processing\n",
    "from string import punctuation #string  containing all puncuation"
   ]
  },
  {
   "cell_type": "markdown",
   "metadata": {},
   "source": [
    "The first stage is to read in the text."
   ]
  },
  {
   "cell_type": "code",
   "execution_count": 21,
   "metadata": {},
   "outputs": [
    {
     "name": "stdout",
     "output_type": "stream",
     "text": [
      "Found books:\n"
     ]
    },
    {
     "data": {
      "text/plain": [
       "['data\\\\got1.txt',\n",
       " 'data\\\\got2.txt',\n",
       " 'data\\\\got3.txt',\n",
       " 'data\\\\got4.txt',\n",
       " 'data\\\\got5.txt']"
      ]
     },
     "execution_count": 21,
     "metadata": {},
     "output_type": "execute_result"
    }
   ],
   "source": [
    "book_filenames = sorted(glob.glob(\"data/*.txt\"))\n",
    "print(\"Found books:\")\n",
    "book_filenames"
   ]
  },
  {
   "cell_type": "code",
   "execution_count": 22,
   "metadata": {},
   "outputs": [
    {
     "name": "stdout",
     "output_type": "stream",
     "text": [
      "Corpus is 9719485 characters long\n"
     ]
    }
   ],
   "source": [
    "corpus_raw = u\"\"\n",
    "#for each book, read it, open it un utf 8 format, \n",
    "#add it to the raw corpus\n",
    "for book_filename in book_filenames:\n",
    "    with codecs.open(book_filename, \"r\", \"utf-8\") as book_file:\n",
    "        corpus_raw += book_file.read()\n",
    "\n",
    "print(\"Corpus is {0} characters long\".format(len(corpus_raw)))"
   ]
  },
  {
   "cell_type": "markdown",
   "metadata": {},
   "source": [
    "Bellow is how we could process the text with libraries"
   ]
  },
  {
   "cell_type": "code",
   "execution_count": 23,
   "metadata": {},
   "outputs": [],
   "source": [
    "table=str.maketrans(\"\",\"\",punctuation)     #create translation table\n",
    "text = corpus_raw.translate(table) # remove puncuation\n",
    "sentences = text.split('\\n') #split into sentences\n",
    "sentences = list(filter(None,sentences)) #remove empty strings\n",
    "for i,sentence in enumerate(sentences):\n",
    "    sentences[i] = sentence.lower().split() #lower case and split into words"
   ]
  },
  {
   "cell_type": "markdown",
   "metadata": {},
   "source": [
    "The same preprocessing using gensim. Probaly better to use gensim because it will preporcess better for example it wouldn't remove apostrophes in \"it's\"."
   ]
  },
  {
   "cell_type": "code",
   "execution_count": 24,
   "metadata": {},
   "outputs": [],
   "source": [
    "sentences = corpus_raw.split('\\n') #split at new lines\n",
    "sentences =  filter(None, sentences) # remove empty strings\n",
    "sentences =  list(map(simple_preprocess,sentences)) #clean text "
   ]
  },
  {
   "cell_type": "markdown",
   "metadata": {},
   "source": [
    "## Word2Vec model\n",
    "\n",
    "To create the model the data must be in the correct format. Each sentence must be tokenized (divided into indivdual words). We then feed a list of sentences, where each sentence is a list of words into the model. The other parameters mean:\n",
    "\n",
    "* size - dimension of resulting word vector\n",
    "* window - the maximum distance between the current and projected word\n",
    "* min count - ignores all word with freq bellow this\n",
    "* worker - number of cpus to use\n",
    "\n",
    "More extensive documentation can be found [here](https://radimrehurek.com/gensim/models/word2vec.html). By feault the word2vec model uses the CBOW (Continous Bag of Words). "
   ]
  },
  {
   "cell_type": "code",
   "execution_count": 25,
   "metadata": {},
   "outputs": [],
   "source": [
    "workers = cpu_count()"
   ]
  },
  {
   "cell_type": "code",
   "execution_count": 43,
   "metadata": {},
   "outputs": [],
   "source": [
    "model = Word2Vec(sentences, size=100, window=5, min_count=5, workers=workers) #fit model"
   ]
  },
  {
   "cell_type": "code",
   "execution_count": 44,
   "metadata": {},
   "outputs": [
    {
     "data": {
      "text/plain": [
       "11766"
      ]
     },
     "execution_count": 44,
     "metadata": {},
     "output_type": "execute_result"
    }
   ],
   "source": [
    "len(model.wv.vocab) #size of vocab"
   ]
  },
  {
   "cell_type": "code",
   "execution_count": 45,
   "metadata": {},
   "outputs": [
    {
     "data": {
      "text/plain": [
       "(11766, 30)"
      ]
     },
     "execution_count": 45,
     "metadata": {},
     "output_type": "execute_result"
    }
   ],
   "source": [
    "model.wv.vectors.shape  # how we can access the word embeddings matrix"
   ]
  },
  {
   "cell_type": "code",
   "execution_count": 46,
   "metadata": {},
   "outputs": [
    {
     "data": {
      "text/plain": [
       "True"
      ]
     },
     "execution_count": 46,
     "metadata": {},
     "output_type": "execute_result"
    }
   ],
   "source": [
    "'word'  in model.wv.vocab #check if word in vocab"
   ]
  },
  {
   "cell_type": "code",
   "execution_count": 47,
   "metadata": {},
   "outputs": [
    {
     "data": {
      "text/plain": [
       "array([ 0.68739736,  0.05206719,  5.1409917 , -2.5213878 ,  0.6190936 ,\n",
       "        0.31066605, -0.5831321 ,  2.170915  ,  0.09539993,  1.0989041 ,\n",
       "       -2.8519135 , -2.8304002 ,  0.37002218,  0.902059  , -1.4979048 ,\n",
       "        1.7596527 , -2.4026933 , -0.15181732, -1.3945677 ,  1.360345  ,\n",
       "        1.4451095 , -2.0462534 , -0.40619943, -2.9830127 ,  3.3829682 ,\n",
       "        2.2928636 , -3.6101625 , -0.48065746, -0.28180912,  3.1964552 ],\n",
       "      dtype=float32)"
      ]
     },
     "execution_count": 47,
     "metadata": {},
     "output_type": "execute_result"
    }
   ],
   "source": [
    "model.wv['man'] #get word vector for man"
   ]
  },
  {
   "cell_type": "code",
   "execution_count": 48,
   "metadata": {},
   "outputs": [
    {
     "data": {
      "text/plain": [
       "[('woman', 0.7958261966705322),\n",
       " ('boy', 0.7713156938552856),\n",
       " ('bear', 0.7613998055458069),\n",
       " ('knight', 0.7192999720573425),\n",
       " ('wench', 0.7066137194633484),\n",
       " ('crow', 0.7050321698188782),\n",
       " ('wolf', 0.6626030206680298),\n",
       " ('one', 0.6473504304885864),\n",
       " ('fool', 0.6328256130218506),\n",
       " ('girl', 0.6240218877792358)]"
      ]
     },
     "execution_count": 48,
     "metadata": {},
     "output_type": "execute_result"
    }
   ],
   "source": [
    "model.wv.most_similar('man')  # find most similar words"
   ]
  },
  {
   "cell_type": "code",
   "execution_count": 49,
   "metadata": {},
   "outputs": [
    {
     "data": {
      "text/plain": [
       "[('queen', 0.8588622212409973),\n",
       " ('prince', 0.7311638593673706),\n",
       " ('daenerys', 0.644047737121582),\n",
       " ('joffrey', 0.6434864401817322),\n",
       " ('targaryen', 0.6206921935081482),\n",
       " ('princess', 0.5943112969398499),\n",
       " ('margaery', 0.5936480760574341),\n",
       " ('tourney', 0.580498993396759),\n",
       " ('traitor', 0.564799427986145),\n",
       " ('captain', 0.5633386373519897)]"
      ]
     },
     "execution_count": 49,
     "metadata": {},
     "output_type": "execute_result"
    }
   ],
   "source": [
    "# king +  woman  - man = ?\n",
    "model.wv.most_similar(positive=['woman', 'king'], negative=['man']) "
   ]
  },
  {
   "cell_type": "markdown",
   "metadata": {},
   "source": [
    "## Dimensionality reduction with t-SNE\n",
    "\n",
    "Before we can plot the word vectors we need to use some form of dimensionality reduction, to make them 2d. We'll use TNSE which works vey well for vizulazing high-dimensional data.\n",
    "\n"
   ]
  },
  {
   "cell_type": "code",
   "execution_count": 50,
   "metadata": {},
   "outputs": [],
   "source": [
    "from sklearn.manifold import TSNE #from dimensionality reduction\n",
    "import pandas as pd "
   ]
  },
  {
   "cell_type": "code",
   "execution_count": 51,
   "metadata": {},
   "outputs": [],
   "source": [
    "from sklearn.manifold import MDS"
   ]
  },
  {
   "cell_type": "code",
   "execution_count": 52,
   "metadata": {},
   "outputs": [],
   "source": [
    "n = 1000 #only use first 1000 vectors"
   ]
  },
  {
   "cell_type": "code",
   "execution_count": 53,
   "metadata": {},
   "outputs": [],
   "source": [
    "tsne = TSNE(n_components=2, perplexity=3,random_state=0)\n",
    "tsne_vectors = tsne.fit_transform(model.wv.vectors[:n])"
   ]
  },
  {
   "cell_type": "code",
   "execution_count": 54,
   "metadata": {},
   "outputs": [],
   "source": [
    "words = model.wv.index2word[:n] #get first n words from model"
   ]
  },
  {
   "cell_type": "code",
   "execution_count": 55,
   "metadata": {},
   "outputs": [],
   "source": [
    "# from sklearn.manifold import MDS\n",
    "\n",
    "# mds = MDS(n_components=2)\n",
    "# tsne_vectors = mds.fit_transform(model.wv.vectors[:1000])"
   ]
  },
  {
   "cell_type": "markdown",
   "metadata": {},
   "source": [
    "## Plotting word vectors with Bokeh"
   ]
  },
  {
   "cell_type": "markdown",
   "metadata": {},
   "source": [
    "Bokeh is an interactive plotting library, which is great for exploring the realsionship of the word vectors. It's won't work in jupyter lab by default (because they have disabled inline javascript) but it will still work in jupyter notebook. We must install a lab [extension](https://github.com/bokeh/jupyterlab_bokeh) to get bokeh working in lab"
   ]
  },
  {
   "cell_type": "code",
   "execution_count": 56,
   "metadata": {},
   "outputs": [
    {
     "data": {
      "text/html": [
       "\n",
       "    <div class=\"bk-root\">\n",
       "        <a href=\"https://bokeh.pydata.org\" target=\"_blank\" class=\"bk-logo bk-logo-small bk-logo-notebook\"></a>\n",
       "        <span id=\"b4f8cdd9-11d1-4de3-80c4-65c07c699dca\">Loading BokehJS ...</span>\n",
       "    </div>"
      ]
     },
     "metadata": {},
     "output_type": "display_data"
    },
    {
     "data": {
      "application/javascript": [
       "\n",
       "(function(root) {\n",
       "  function now() {\n",
       "    return new Date();\n",
       "  }\n",
       "\n",
       "  var force = true;\n",
       "\n",
       "  if (typeof (root._bokeh_onload_callbacks) === \"undefined\" || force === true) {\n",
       "    root._bokeh_onload_callbacks = [];\n",
       "    root._bokeh_is_loading = undefined;\n",
       "  }\n",
       "\n",
       "  var JS_MIME_TYPE = 'application/javascript';\n",
       "  var HTML_MIME_TYPE = 'text/html';\n",
       "  var EXEC_MIME_TYPE = 'application/vnd.bokehjs_exec.v0+json';\n",
       "  var CLASS_NAME = 'output_bokeh rendered_html';\n",
       "\n",
       "  /**\n",
       "   * Render data to the DOM node\n",
       "   */\n",
       "  function render(props, node) {\n",
       "    var script = document.createElement(\"script\");\n",
       "    node.appendChild(script);\n",
       "  }\n",
       "\n",
       "  /**\n",
       "   * Handle when an output is cleared or removed\n",
       "   */\n",
       "  function handleClearOutput(event, handle) {\n",
       "    var cell = handle.cell;\n",
       "\n",
       "    var id = cell.output_area._bokeh_element_id;\n",
       "    var server_id = cell.output_area._bokeh_server_id;\n",
       "    // Clean up Bokeh references\n",
       "    if (id !== undefined) {\n",
       "      Bokeh.index[id].model.document.clear();\n",
       "      delete Bokeh.index[id];\n",
       "    }\n",
       "\n",
       "    if (server_id !== undefined) {\n",
       "      // Clean up Bokeh references\n",
       "      var cmd = \"from bokeh.io.state import curstate; print(curstate().uuid_to_server['\" + server_id + \"'].get_sessions()[0].document.roots[0]._id)\";\n",
       "      cell.notebook.kernel.execute(cmd, {\n",
       "        iopub: {\n",
       "          output: function(msg) {\n",
       "            var element_id = msg.content.text.trim();\n",
       "            Bokeh.index[element_id].model.document.clear();\n",
       "            delete Bokeh.index[element_id];\n",
       "          }\n",
       "        }\n",
       "      });\n",
       "      // Destroy server and session\n",
       "      var cmd = \"import bokeh.io.notebook as ion; ion.destroy_server('\" + server_id + \"')\";\n",
       "      cell.notebook.kernel.execute(cmd);\n",
       "    }\n",
       "  }\n",
       "\n",
       "  /**\n",
       "   * Handle when a new output is added\n",
       "   */\n",
       "  function handleAddOutput(event, handle) {\n",
       "    var output_area = handle.output_area;\n",
       "    var output = handle.output;\n",
       "\n",
       "    // limit handleAddOutput to display_data with EXEC_MIME_TYPE content only\n",
       "    if ((output.output_type != \"display_data\") || (!output.data.hasOwnProperty(EXEC_MIME_TYPE))) {\n",
       "      return\n",
       "    }\n",
       "\n",
       "    var toinsert = output_area.element.find(\".\" + CLASS_NAME.split(' ')[0]);\n",
       "\n",
       "    if (output.metadata[EXEC_MIME_TYPE][\"id\"] !== undefined) {\n",
       "      toinsert[toinsert.length - 1].firstChild.textContent = output.data[JS_MIME_TYPE];\n",
       "      // store reference to embed id on output_area\n",
       "      output_area._bokeh_element_id = output.metadata[EXEC_MIME_TYPE][\"id\"];\n",
       "    }\n",
       "    if (output.metadata[EXEC_MIME_TYPE][\"server_id\"] !== undefined) {\n",
       "      var bk_div = document.createElement(\"div\");\n",
       "      bk_div.innerHTML = output.data[HTML_MIME_TYPE];\n",
       "      var script_attrs = bk_div.children[0].attributes;\n",
       "      for (var i = 0; i < script_attrs.length; i++) {\n",
       "        toinsert[toinsert.length - 1].firstChild.setAttribute(script_attrs[i].name, script_attrs[i].value);\n",
       "      }\n",
       "      // store reference to server id on output_area\n",
       "      output_area._bokeh_server_id = output.metadata[EXEC_MIME_TYPE][\"server_id\"];\n",
       "    }\n",
       "  }\n",
       "\n",
       "  function register_renderer(events, OutputArea) {\n",
       "\n",
       "    function append_mime(data, metadata, element) {\n",
       "      // create a DOM node to render to\n",
       "      var toinsert = this.create_output_subarea(\n",
       "        metadata,\n",
       "        CLASS_NAME,\n",
       "        EXEC_MIME_TYPE\n",
       "      );\n",
       "      this.keyboard_manager.register_events(toinsert);\n",
       "      // Render to node\n",
       "      var props = {data: data, metadata: metadata[EXEC_MIME_TYPE]};\n",
       "      render(props, toinsert[toinsert.length - 1]);\n",
       "      element.append(toinsert);\n",
       "      return toinsert\n",
       "    }\n",
       "\n",
       "    /* Handle when an output is cleared or removed */\n",
       "    events.on('clear_output.CodeCell', handleClearOutput);\n",
       "    events.on('delete.Cell', handleClearOutput);\n",
       "\n",
       "    /* Handle when a new output is added */\n",
       "    events.on('output_added.OutputArea', handleAddOutput);\n",
       "\n",
       "    /**\n",
       "     * Register the mime type and append_mime function with output_area\n",
       "     */\n",
       "    OutputArea.prototype.register_mime_type(EXEC_MIME_TYPE, append_mime, {\n",
       "      /* Is output safe? */\n",
       "      safe: true,\n",
       "      /* Index of renderer in `output_area.display_order` */\n",
       "      index: 0\n",
       "    });\n",
       "  }\n",
       "\n",
       "  // register the mime type if in Jupyter Notebook environment and previously unregistered\n",
       "  if (root.Jupyter !== undefined) {\n",
       "    var events = require('base/js/events');\n",
       "    var OutputArea = require('notebook/js/outputarea').OutputArea;\n",
       "\n",
       "    if (OutputArea.prototype.mime_types().indexOf(EXEC_MIME_TYPE) == -1) {\n",
       "      register_renderer(events, OutputArea);\n",
       "    }\n",
       "  }\n",
       "\n",
       "  \n",
       "  if (typeof (root._bokeh_timeout) === \"undefined\" || force === true) {\n",
       "    root._bokeh_timeout = Date.now() + 5000;\n",
       "    root._bokeh_failed_load = false;\n",
       "  }\n",
       "\n",
       "  var NB_LOAD_WARNING = {'data': {'text/html':\n",
       "     \"<div style='background-color: #fdd'>\\n\"+\n",
       "     \"<p>\\n\"+\n",
       "     \"BokehJS does not appear to have successfully loaded. If loading BokehJS from CDN, this \\n\"+\n",
       "     \"may be due to a slow or bad network connection. Possible fixes:\\n\"+\n",
       "     \"</p>\\n\"+\n",
       "     \"<ul>\\n\"+\n",
       "     \"<li>re-rerun `output_notebook()` to attempt to load from CDN again, or</li>\\n\"+\n",
       "     \"<li>use INLINE resources instead, as so:</li>\\n\"+\n",
       "     \"</ul>\\n\"+\n",
       "     \"<code>\\n\"+\n",
       "     \"from bokeh.resources import INLINE\\n\"+\n",
       "     \"output_notebook(resources=INLINE)\\n\"+\n",
       "     \"</code>\\n\"+\n",
       "     \"</div>\"}};\n",
       "\n",
       "  function display_loaded() {\n",
       "    var el = document.getElementById(\"b4f8cdd9-11d1-4de3-80c4-65c07c699dca\");\n",
       "    if (el != null) {\n",
       "      el.textContent = \"BokehJS is loading...\";\n",
       "    }\n",
       "    if (root.Bokeh !== undefined) {\n",
       "      if (el != null) {\n",
       "        el.textContent = \"BokehJS \" + root.Bokeh.version + \" successfully loaded.\";\n",
       "      }\n",
       "    } else if (Date.now() < root._bokeh_timeout) {\n",
       "      setTimeout(display_loaded, 100)\n",
       "    }\n",
       "  }\n",
       "\n",
       "\n",
       "  function run_callbacks() {\n",
       "    try {\n",
       "      root._bokeh_onload_callbacks.forEach(function(callback) { callback() });\n",
       "    }\n",
       "    finally {\n",
       "      delete root._bokeh_onload_callbacks\n",
       "    }\n",
       "    console.info(\"Bokeh: all callbacks have finished\");\n",
       "  }\n",
       "\n",
       "  function load_libs(js_urls, callback) {\n",
       "    root._bokeh_onload_callbacks.push(callback);\n",
       "    if (root._bokeh_is_loading > 0) {\n",
       "      console.log(\"Bokeh: BokehJS is being loaded, scheduling callback at\", now());\n",
       "      return null;\n",
       "    }\n",
       "    if (js_urls == null || js_urls.length === 0) {\n",
       "      run_callbacks();\n",
       "      return null;\n",
       "    }\n",
       "    console.log(\"Bokeh: BokehJS not loaded, scheduling load and callback at\", now());\n",
       "    root._bokeh_is_loading = js_urls.length;\n",
       "    for (var i = 0; i < js_urls.length; i++) {\n",
       "      var url = js_urls[i];\n",
       "      var s = document.createElement('script');\n",
       "      s.src = url;\n",
       "      s.async = false;\n",
       "      s.onreadystatechange = s.onload = function() {\n",
       "        root._bokeh_is_loading--;\n",
       "        if (root._bokeh_is_loading === 0) {\n",
       "          console.log(\"Bokeh: all BokehJS libraries loaded\");\n",
       "          run_callbacks()\n",
       "        }\n",
       "      };\n",
       "      s.onerror = function() {\n",
       "        console.warn(\"failed to load library \" + url);\n",
       "      };\n",
       "      console.log(\"Bokeh: injecting script tag for BokehJS library: \", url);\n",
       "      document.getElementsByTagName(\"head\")[0].appendChild(s);\n",
       "    }\n",
       "  };var element = document.getElementById(\"b4f8cdd9-11d1-4de3-80c4-65c07c699dca\");\n",
       "  if (element == null) {\n",
       "    console.log(\"Bokeh: ERROR: autoload.js configured with elementid 'b4f8cdd9-11d1-4de3-80c4-65c07c699dca' but no matching script tag was found. \")\n",
       "    return false;\n",
       "  }\n",
       "\n",
       "  var js_urls = [\"https://cdn.pydata.org/bokeh/release/bokeh-0.12.15.min.js\", \"https://cdn.pydata.org/bokeh/release/bokeh-widgets-0.12.15.min.js\", \"https://cdn.pydata.org/bokeh/release/bokeh-tables-0.12.15.min.js\", \"https://cdn.pydata.org/bokeh/release/bokeh-gl-0.12.15.min.js\"];\n",
       "\n",
       "  var inline_js = [\n",
       "    function(Bokeh) {\n",
       "      Bokeh.set_log_level(\"info\");\n",
       "    },\n",
       "    \n",
       "    function(Bokeh) {\n",
       "      \n",
       "    },\n",
       "    function(Bokeh) {\n",
       "      console.log(\"Bokeh: injecting CSS: https://cdn.pydata.org/bokeh/release/bokeh-0.12.15.min.css\");\n",
       "      Bokeh.embed.inject_css(\"https://cdn.pydata.org/bokeh/release/bokeh-0.12.15.min.css\");\n",
       "      console.log(\"Bokeh: injecting CSS: https://cdn.pydata.org/bokeh/release/bokeh-widgets-0.12.15.min.css\");\n",
       "      Bokeh.embed.inject_css(\"https://cdn.pydata.org/bokeh/release/bokeh-widgets-0.12.15.min.css\");\n",
       "      console.log(\"Bokeh: injecting CSS: https://cdn.pydata.org/bokeh/release/bokeh-tables-0.12.15.min.css\");\n",
       "      Bokeh.embed.inject_css(\"https://cdn.pydata.org/bokeh/release/bokeh-tables-0.12.15.min.css\");\n",
       "    }\n",
       "  ];\n",
       "\n",
       "  function run_inline_js() {\n",
       "    \n",
       "    if ((root.Bokeh !== undefined) || (force === true)) {\n",
       "      for (var i = 0; i < inline_js.length; i++) {\n",
       "        inline_js[i].call(root, root.Bokeh);\n",
       "      }if (force === true) {\n",
       "        display_loaded();\n",
       "      }} else if (Date.now() < root._bokeh_timeout) {\n",
       "      setTimeout(run_inline_js, 100);\n",
       "    } else if (!root._bokeh_failed_load) {\n",
       "      console.log(\"Bokeh: BokehJS failed to load within specified timeout.\");\n",
       "      root._bokeh_failed_load = true;\n",
       "    } else if (force !== true) {\n",
       "      var cell = $(document.getElementById(\"b4f8cdd9-11d1-4de3-80c4-65c07c699dca\")).parents('.cell').data().cell;\n",
       "      cell.output_area.append_execute_result(NB_LOAD_WARNING)\n",
       "    }\n",
       "\n",
       "  }\n",
       "\n",
       "  if (root._bokeh_is_loading === 0) {\n",
       "    console.log(\"Bokeh: BokehJS loaded, going straight to plotting\");\n",
       "    run_inline_js();\n",
       "  } else {\n",
       "    load_libs(js_urls, function() {\n",
       "      console.log(\"Bokeh: BokehJS plotting callback run at\", now());\n",
       "      run_inline_js();\n",
       "    });\n",
       "  }\n",
       "}(window));"
      ],
      "application/vnd.bokehjs_load.v0+json": "\n(function(root) {\n  function now() {\n    return new Date();\n  }\n\n  var force = true;\n\n  if (typeof (root._bokeh_onload_callbacks) === \"undefined\" || force === true) {\n    root._bokeh_onload_callbacks = [];\n    root._bokeh_is_loading = undefined;\n  }\n\n  \n\n  \n  if (typeof (root._bokeh_timeout) === \"undefined\" || force === true) {\n    root._bokeh_timeout = Date.now() + 5000;\n    root._bokeh_failed_load = false;\n  }\n\n  var NB_LOAD_WARNING = {'data': {'text/html':\n     \"<div style='background-color: #fdd'>\\n\"+\n     \"<p>\\n\"+\n     \"BokehJS does not appear to have successfully loaded. If loading BokehJS from CDN, this \\n\"+\n     \"may be due to a slow or bad network connection. Possible fixes:\\n\"+\n     \"</p>\\n\"+\n     \"<ul>\\n\"+\n     \"<li>re-rerun `output_notebook()` to attempt to load from CDN again, or</li>\\n\"+\n     \"<li>use INLINE resources instead, as so:</li>\\n\"+\n     \"</ul>\\n\"+\n     \"<code>\\n\"+\n     \"from bokeh.resources import INLINE\\n\"+\n     \"output_notebook(resources=INLINE)\\n\"+\n     \"</code>\\n\"+\n     \"</div>\"}};\n\n  function display_loaded() {\n    var el = document.getElementById(\"b4f8cdd9-11d1-4de3-80c4-65c07c699dca\");\n    if (el != null) {\n      el.textContent = \"BokehJS is loading...\";\n    }\n    if (root.Bokeh !== undefined) {\n      if (el != null) {\n        el.textContent = \"BokehJS \" + root.Bokeh.version + \" successfully loaded.\";\n      }\n    } else if (Date.now() < root._bokeh_timeout) {\n      setTimeout(display_loaded, 100)\n    }\n  }\n\n\n  function run_callbacks() {\n    try {\n      root._bokeh_onload_callbacks.forEach(function(callback) { callback() });\n    }\n    finally {\n      delete root._bokeh_onload_callbacks\n    }\n    console.info(\"Bokeh: all callbacks have finished\");\n  }\n\n  function load_libs(js_urls, callback) {\n    root._bokeh_onload_callbacks.push(callback);\n    if (root._bokeh_is_loading > 0) {\n      console.log(\"Bokeh: BokehJS is being loaded, scheduling callback at\", now());\n      return null;\n    }\n    if (js_urls == null || js_urls.length === 0) {\n      run_callbacks();\n      return null;\n    }\n    console.log(\"Bokeh: BokehJS not loaded, scheduling load and callback at\", now());\n    root._bokeh_is_loading = js_urls.length;\n    for (var i = 0; i < js_urls.length; i++) {\n      var url = js_urls[i];\n      var s = document.createElement('script');\n      s.src = url;\n      s.async = false;\n      s.onreadystatechange = s.onload = function() {\n        root._bokeh_is_loading--;\n        if (root._bokeh_is_loading === 0) {\n          console.log(\"Bokeh: all BokehJS libraries loaded\");\n          run_callbacks()\n        }\n      };\n      s.onerror = function() {\n        console.warn(\"failed to load library \" + url);\n      };\n      console.log(\"Bokeh: injecting script tag for BokehJS library: \", url);\n      document.getElementsByTagName(\"head\")[0].appendChild(s);\n    }\n  };var element = document.getElementById(\"b4f8cdd9-11d1-4de3-80c4-65c07c699dca\");\n  if (element == null) {\n    console.log(\"Bokeh: ERROR: autoload.js configured with elementid 'b4f8cdd9-11d1-4de3-80c4-65c07c699dca' but no matching script tag was found. \")\n    return false;\n  }\n\n  var js_urls = [\"https://cdn.pydata.org/bokeh/release/bokeh-0.12.15.min.js\", \"https://cdn.pydata.org/bokeh/release/bokeh-widgets-0.12.15.min.js\", \"https://cdn.pydata.org/bokeh/release/bokeh-tables-0.12.15.min.js\", \"https://cdn.pydata.org/bokeh/release/bokeh-gl-0.12.15.min.js\"];\n\n  var inline_js = [\n    function(Bokeh) {\n      Bokeh.set_log_level(\"info\");\n    },\n    \n    function(Bokeh) {\n      \n    },\n    function(Bokeh) {\n      console.log(\"Bokeh: injecting CSS: https://cdn.pydata.org/bokeh/release/bokeh-0.12.15.min.css\");\n      Bokeh.embed.inject_css(\"https://cdn.pydata.org/bokeh/release/bokeh-0.12.15.min.css\");\n      console.log(\"Bokeh: injecting CSS: https://cdn.pydata.org/bokeh/release/bokeh-widgets-0.12.15.min.css\");\n      Bokeh.embed.inject_css(\"https://cdn.pydata.org/bokeh/release/bokeh-widgets-0.12.15.min.css\");\n      console.log(\"Bokeh: injecting CSS: https://cdn.pydata.org/bokeh/release/bokeh-tables-0.12.15.min.css\");\n      Bokeh.embed.inject_css(\"https://cdn.pydata.org/bokeh/release/bokeh-tables-0.12.15.min.css\");\n    }\n  ];\n\n  function run_inline_js() {\n    \n    if ((root.Bokeh !== undefined) || (force === true)) {\n      for (var i = 0; i < inline_js.length; i++) {\n        inline_js[i].call(root, root.Bokeh);\n      }if (force === true) {\n        display_loaded();\n      }} else if (Date.now() < root._bokeh_timeout) {\n      setTimeout(run_inline_js, 100);\n    } else if (!root._bokeh_failed_load) {\n      console.log(\"Bokeh: BokehJS failed to load within specified timeout.\");\n      root._bokeh_failed_load = true;\n    } else if (force !== true) {\n      var cell = $(document.getElementById(\"b4f8cdd9-11d1-4de3-80c4-65c07c699dca\")).parents('.cell').data().cell;\n      cell.output_area.append_execute_result(NB_LOAD_WARNING)\n    }\n\n  }\n\n  if (root._bokeh_is_loading === 0) {\n    console.log(\"Bokeh: BokehJS loaded, going straight to plotting\");\n    run_inline_js();\n  } else {\n    load_libs(js_urls, function() {\n      console.log(\"Bokeh: BokehJS plotting callback run at\", now());\n      run_inline_js();\n    });\n  }\n}(window));"
     },
     "metadata": {},
     "output_type": "display_data"
    }
   ],
   "source": [
    "from bokeh.plotting import figure, show, output_notebook\n",
    "from bokeh.models import HoverTool, ColumnDataSource, value\n",
    "output_notebook()"
   ]
  },
  {
   "cell_type": "code",
   "execution_count": 57,
   "metadata": {},
   "outputs": [
    {
     "data": {
      "text/html": [
       "<div>\n",
       "<style scoped>\n",
       "    .dataframe tbody tr th:only-of-type {\n",
       "        vertical-align: middle;\n",
       "    }\n",
       "\n",
       "    .dataframe tbody tr th {\n",
       "        vertical-align: top;\n",
       "    }\n",
       "\n",
       "    .dataframe thead th {\n",
       "        text-align: right;\n",
       "    }\n",
       "</style>\n",
       "<table border=\"1\" class=\"dataframe\">\n",
       "  <thead>\n",
       "    <tr style=\"text-align: right;\">\n",
       "      <th></th>\n",
       "      <th>x_coord</th>\n",
       "      <th>y_coord</th>\n",
       "    </tr>\n",
       "    <tr>\n",
       "      <th>word</th>\n",
       "      <th></th>\n",
       "      <th></th>\n",
       "    </tr>\n",
       "  </thead>\n",
       "  <tbody>\n",
       "    <tr>\n",
       "      <th>the</th>\n",
       "      <td>-4.832664</td>\n",
       "      <td>30.268881</td>\n",
       "    </tr>\n",
       "    <tr>\n",
       "      <th>and</th>\n",
       "      <td>-38.466236</td>\n",
       "      <td>2.400502</td>\n",
       "    </tr>\n",
       "    <tr>\n",
       "      <th>to</th>\n",
       "      <td>23.073069</td>\n",
       "      <td>12.972664</td>\n",
       "    </tr>\n",
       "    <tr>\n",
       "      <th>of</th>\n",
       "      <td>-45.412277</td>\n",
       "      <td>45.649239</td>\n",
       "    </tr>\n",
       "    <tr>\n",
       "      <th>he</th>\n",
       "      <td>-27.383984</td>\n",
       "      <td>-60.624546</td>\n",
       "    </tr>\n",
       "  </tbody>\n",
       "</table>\n",
       "</div>"
      ],
      "text/plain": [
       "        x_coord    y_coord\n",
       "word                      \n",
       "the   -4.832664  30.268881\n",
       "and  -38.466236   2.400502\n",
       "to    23.073069  12.972664\n",
       "of   -45.412277  45.649239\n",
       "he   -27.383984 -60.624546"
      ]
     },
     "execution_count": 57,
     "metadata": {},
     "output_type": "execute_result"
    }
   ],
   "source": [
    "#create a dataframe to plot with\n",
    "df = pd.DataFrame(tsne_vectors,index=words,columns=['x_coord','y_coord'])\n",
    "df.index.name = 'word'\n",
    "df.head()"
   ]
  },
  {
   "cell_type": "code",
   "execution_count": 58,
   "metadata": {},
   "outputs": [],
   "source": [
    "# add our DataFrame as a ColumnDataSource for Bokeh\n",
    "plot_data = ColumnDataSource(df)\n",
    "\n",
    "# create the plot and configure the\n",
    "# title, dimensions, and tools\n",
    "tsne_plot = figure(title=u't-SNE Word Embeddings',\n",
    "                   plot_width = 800,\n",
    "                   plot_height = 800,\n",
    "                   tools= (u'pan, wheel_zoom, box_zoom,'\n",
    "                           u'box_select, reset'),\n",
    "                   active_scroll=u'wheel_zoom')\n"
   ]
  },
  {
   "cell_type": "code",
   "execution_count": 59,
   "metadata": {
    "scrolled": true
   },
   "outputs": [
    {
     "data": {
      "text/html": [
       "\n",
       "<div class=\"bk-root\">\n",
       "    <div class=\"bk-plotdiv\" id=\"248ad715-86af-4ea9-996d-c15c4e2e485a\"></div>\n",
       "</div>"
      ]
     },
     "metadata": {},
     "output_type": "display_data"
    },
    {
     "data": {
      "application/javascript": [
       "(function(root) {\n",
       "  function embed_document(root) {\n",
       "    \n",
       "  var docs_json = {\"df05f48b-12f6-4c65-8567-e0711174ffda\":{\"roots\":{\"references\":[{\"attributes\":{\"bottom_units\":\"screen\",\"fill_alpha\":{\"value\":0.5},\"fill_color\":{\"value\":\"lightgrey\"},\"left_units\":\"screen\",\"level\":\"overlay\",\"line_alpha\":{\"value\":1.0},\"line_color\":{\"value\":\"black\"},\"line_dash\":[4,4],\"line_width\":{\"value\":2},\"plot\":null,\"render_mode\":\"css\",\"right_units\":\"screen\",\"top_units\":\"screen\"},\"id\":\"024a5a20-3655-4dfe-9750-c3d7b913765e\",\"type\":\"BoxAnnotation\"},{\"attributes\":{},\"id\":\"40b802e2-dd19-4ff6-8e7a-7a3896a6b0bf\",\"type\":\"BasicTicker\"},{\"attributes\":{\"plot\":null,\"text\":\"t-SNE Word Embeddings\",\"text_font_size\":{\"value\":\"16pt\"}},\"id\":\"6bc8390b-d25a-4368-950c-5b32331d9ecb\",\"type\":\"Title\"},{\"attributes\":{},\"id\":\"6dbb10e6-fb4c-4f56-9f04-f49d1a80a4c4\",\"type\":\"LinearScale\"},{\"attributes\":{\"source\":{\"id\":\"642a07f2-cde9-444e-8ea0-39329cc5aaa1\",\"type\":\"ColumnDataSource\"}},\"id\":\"c9ee346f-14b9-4805-b4a6-c499f149e22f\",\"type\":\"CDSView\"},{\"attributes\":{\"callback\":null},\"id\":\"ebabff54-195b-4ee2-931e-44a0f2b28e11\",\"type\":\"DataRange1d\"},{\"attributes\":{\"data_source\":{\"id\":\"642a07f2-cde9-444e-8ea0-39329cc5aaa1\",\"type\":\"ColumnDataSource\"},\"glyph\":{\"id\":\"adf2add7-c435-468f-a2ca-0048e1c83ba6\",\"type\":\"Circle\"},\"hover_glyph\":{\"id\":\"806d0ec5-9916-4796-955d-17d31eb8738c\",\"type\":\"Circle\"},\"muted_glyph\":null,\"nonselection_glyph\":{\"id\":\"92ec3c64-5617-4d6d-8d24-f23f039c2a32\",\"type\":\"Circle\"},\"selection_glyph\":null,\"view\":{\"id\":\"c9ee346f-14b9-4805-b4a6-c499f149e22f\",\"type\":\"CDSView\"}},\"id\":\"e560d17d-4bb2-4433-9f6c-55da5f6669bf\",\"type\":\"GlyphRenderer\"},{\"attributes\":{\"fill_alpha\":{\"value\":0.1},\"fill_color\":{\"value\":\"#1f77b4\"},\"line_alpha\":{\"value\":0.1},\"line_color\":{\"value\":\"#1f77b4\"},\"size\":{\"units\":\"screen\",\"value\":10},\"x\":{\"field\":\"x_coord\"},\"y\":{\"field\":\"y_coord\"}},\"id\":\"92ec3c64-5617-4d6d-8d24-f23f039c2a32\",\"type\":\"Circle\"},{\"attributes\":{\"below\":[{\"id\":\"3b69c646-9587-46be-9f63-b5e0abbdbcfe\",\"type\":\"LinearAxis\"}],\"left\":[{\"id\":\"beeec9db-bb39-4505-9b93-1e495f5db1d9\",\"type\":\"LinearAxis\"}],\"outline_line_color\":{\"value\":null},\"plot_height\":800,\"plot_width\":800,\"renderers\":[{\"id\":\"3b69c646-9587-46be-9f63-b5e0abbdbcfe\",\"type\":\"LinearAxis\"},{\"id\":\"15358cbc-ab41-4ca2-b706-9aaf7842a6cf\",\"type\":\"Grid\"},{\"id\":\"beeec9db-bb39-4505-9b93-1e495f5db1d9\",\"type\":\"LinearAxis\"},{\"id\":\"65fa8703-e5cd-4db5-bcdc-96e881e484e5\",\"type\":\"Grid\"},{\"id\":\"024a5a20-3655-4dfe-9750-c3d7b913765e\",\"type\":\"BoxAnnotation\"},{\"id\":\"4ea34c64-4741-4815-b6d4-cd4fee9fed35\",\"type\":\"BoxAnnotation\"},{\"id\":\"e560d17d-4bb2-4433-9f6c-55da5f6669bf\",\"type\":\"GlyphRenderer\"}],\"title\":{\"id\":\"6bc8390b-d25a-4368-950c-5b32331d9ecb\",\"type\":\"Title\"},\"toolbar\":{\"id\":\"46a98a47-3a1a-4c17-bd3d-99d49b7a999f\",\"type\":\"Toolbar\"},\"x_range\":{\"id\":\"d9fabcb4-2f3c-4282-8900-b9583591b496\",\"type\":\"DataRange1d\"},\"x_scale\":{\"id\":\"8355505e-a66c-42e9-90a3-3527a9428468\",\"type\":\"LinearScale\"},\"y_range\":{\"id\":\"ebabff54-195b-4ee2-931e-44a0f2b28e11\",\"type\":\"DataRange1d\"},\"y_scale\":{\"id\":\"6dbb10e6-fb4c-4f56-9f04-f49d1a80a4c4\",\"type\":\"LinearScale\"}},\"id\":\"83efc55e-a75f-459a-afe2-d011a4a17a79\",\"subtype\":\"Figure\",\"type\":\"Plot\"},{\"attributes\":{},\"id\":\"8355505e-a66c-42e9-90a3-3527a9428468\",\"type\":\"LinearScale\"},{\"attributes\":{\"fill_color\":{\"value\":\"#1f77b4\"},\"size\":{\"units\":\"screen\",\"value\":10},\"x\":{\"field\":\"x_coord\"},\"y\":{\"field\":\"y_coord\"}},\"id\":\"806d0ec5-9916-4796-955d-17d31eb8738c\",\"type\":\"Circle\"},{\"attributes\":{\"callback\":null},\"id\":\"d9fabcb4-2f3c-4282-8900-b9583591b496\",\"type\":\"DataRange1d\"},{\"attributes\":{},\"id\":\"4ee5a62f-96e9-4a63-9d8f-516bbe386c2e\",\"type\":\"BasicTickFormatter\"},{\"attributes\":{\"dimension\":1,\"grid_line_color\":{\"value\":null},\"plot\":{\"id\":\"83efc55e-a75f-459a-afe2-d011a4a17a79\",\"subtype\":\"Figure\",\"type\":\"Plot\"},\"ticker\":{\"id\":\"40b802e2-dd19-4ff6-8e7a-7a3896a6b0bf\",\"type\":\"BasicTicker\"}},\"id\":\"65fa8703-e5cd-4db5-bcdc-96e881e484e5\",\"type\":\"Grid\"},{\"attributes\":{},\"id\":\"99d87874-24a7-4815-b2c6-588bff97f2b9\",\"type\":\"BasicTickFormatter\"},{\"attributes\":{\"bottom_units\":\"screen\",\"fill_alpha\":{\"value\":0.5},\"fill_color\":{\"value\":\"lightgrey\"},\"left_units\":\"screen\",\"level\":\"overlay\",\"line_alpha\":{\"value\":1.0},\"line_color\":{\"value\":\"black\"},\"line_dash\":[4,4],\"line_width\":{\"value\":2},\"plot\":null,\"render_mode\":\"css\",\"right_units\":\"screen\",\"top_units\":\"screen\"},\"id\":\"4ea34c64-4741-4815-b6d4-cd4fee9fed35\",\"type\":\"BoxAnnotation\"},{\"attributes\":{\"fill_alpha\":{\"value\":0.1},\"fill_color\":{\"value\":\"blue\"},\"line_alpha\":{\"value\":0.2},\"line_color\":{\"value\":\"blue\"},\"size\":{\"units\":\"screen\",\"value\":10},\"x\":{\"field\":\"x_coord\"},\"y\":{\"field\":\"y_coord\"}},\"id\":\"adf2add7-c435-468f-a2ca-0048e1c83ba6\",\"type\":\"Circle\"},{\"attributes\":{\"formatter\":{\"id\":\"4ee5a62f-96e9-4a63-9d8f-516bbe386c2e\",\"type\":\"BasicTickFormatter\"},\"plot\":{\"id\":\"83efc55e-a75f-459a-afe2-d011a4a17a79\",\"subtype\":\"Figure\",\"type\":\"Plot\"},\"ticker\":{\"id\":\"2f5df00c-b61d-4209-8912-25d092b69747\",\"type\":\"BasicTicker\"},\"visible\":false},\"id\":\"3b69c646-9587-46be-9f63-b5e0abbdbcfe\",\"type\":\"LinearAxis\"},{\"attributes\":{\"callback\":null,\"tooltips\":\"@word\"},\"id\":\"95ce3057-5aba-43d2-a882-325a7ca3135d\",\"type\":\"HoverTool\"},{\"attributes\":{\"grid_line_color\":{\"value\":null},\"plot\":{\"id\":\"83efc55e-a75f-459a-afe2-d011a4a17a79\",\"subtype\":\"Figure\",\"type\":\"Plot\"},\"ticker\":{\"id\":\"2f5df00c-b61d-4209-8912-25d092b69747\",\"type\":\"BasicTicker\"}},\"id\":\"15358cbc-ab41-4ca2-b706-9aaf7842a6cf\",\"type\":\"Grid\"},{\"attributes\":{},\"id\":\"d37cf2f5-df9f-4020-b56a-679e6b45305f\",\"type\":\"ResetTool\"},{\"attributes\":{\"callback\":null,\"column_names\":[\"x_coord\",\"y_coord\",\"word\"],\"data\":{\"word\":[\"the\",\"and\",\"to\",\"of\",\"he\",\"his\",\"was\",\"you\",\"her\",\"in\",\"it\",\"had\",\"that\",\"she\",\"as\",\"with\",\"him\",\"not\",\"but\",\"for\",\"they\",\"is\",\"at\",\"on\",\"said\",\"my\",\"have\",\"be\",\"lord\",\"them\",\"no\",\"from\",\"would\",\"were\",\"me\",\"your\",\"one\",\"all\",\"when\",\"will\",\"ser\",\"if\",\"so\",\"their\",\"we\",\"could\",\"are\",\"man\",\"there\",\"this\",\"up\",\"been\",\"what\",\"by\",\"did\",\"king\",\"do\",\"men\",\"back\",\"out\",\"more\",\"or\",\"who\",\"down\",\"well\",\"than\",\"only\",\"jon\",\"like\",\"father\",\"some\",\"old\",\"hand\",\"tyrion\",\"even\",\"too\",\"before\",\"never\",\"an\",\"off\",\"see\",\"know\",\"into\",\"made\",\"now\",\"eyes\",\"black\",\"told\",\"lady\",\"thought\",\"time\",\"then\",\"how\",\"long\",\"has\",\"can\",\"might\",\"us\",\"come\",\"where\",\"here\",\"through\",\"still\",\"face\",\"head\",\"ll\",\"red\",\"way\",\"boy\",\"once\",\"must\",\"queen\",\"good\",\"two\",\"brother\",\"night\",\"over\",\"little\",\"about\",\"other\",\"took\",\"came\",\"though\",\"again\",\"say\",\"three\",\"should\",\"away\",\"son\",\"dead\",\"own\",\"blood\",\"half\",\"am\",\"take\",\"go\",\"arya\",\"make\",\"saw\",\"jaime\",\"day\",\"white\",\"first\",\"himself\",\"our\",\"look\",\"want\",\"after\",\"enough\",\"much\",\"bran\",\"girl\",\"sword\",\"tell\",\"great\",\"its\",\"looked\",\"called\",\"left\",\"knew\",\"maester\",\"asked\",\"gave\",\"sansa\",\"wall\",\"every\",\"heard\",\"let\",\"yet\",\"went\",\"turned\",\"dany\",\"why\",\"need\",\"behind\",\"around\",\"just\",\"woman\",\"another\",\"beneath\",\"across\",\"snow\",\"knight\",\"keep\",\"any\",\"gold\",\"grace\",\"found\",\"cersei\",\"last\",\"castle\",\"those\",\"stark\",\"gods\",\"think\",\"hair\",\"many\",\"feet\",\"against\",\"stannis\",\"mother\",\"hands\",\"catelyn\",\"prince\",\"robert\",\"seemed\",\"may\",\"ever\",\"lannister\",\"robb\",\"done\",\"don\",\"find\",\"re\",\"hear\",\"grey\",\"name\",\"high\",\"horse\",\"put\",\"wine\",\"iron\",\"stone\",\"fire\",\"hard\",\"water\",\"upon\",\"until\",\"these\",\"voice\",\"gone\",\"give\",\"seen\",\"better\",\"ned\",\"sam\",\"years\",\"shall\",\"always\",\"between\",\"dark\",\"place\",\"winterfell\",\"small\",\"house\",\"cold\",\"hundred\",\"most\",\"sister\",\"stood\",\"end\",\"words\",\"sea\",\"right\",\"nothing\",\"joffrey\",\"walls\",\"fingers\",\"same\",\"young\",\"cloak\",\"seven\",\"does\",\"watch\",\"beside\",\"get\",\"mouth\",\"green\",\"door\",\"big\",\"under\",\"few\",\"sent\",\"daughter\",\"perhaps\",\"almost\",\"such\",\"wanted\",\"true\",\"leave\",\"while\",\"arms\",\"city\",\"wind\",\"children\",\"light\",\"sweet\",\"herself\",\"theon\",\"lost\",\"others\",\"each\",\"felt\",\"brothers\",\"side\",\"yes\",\"best\",\"very\",\"brought\",\"die\",\"died\",\"soon\",\"far\",\"north\",\"fear\",\"child\",\"brienne\",\"along\",\"both\",\"word\",\"battle\",\"taken\",\"new\",\"help\",\"wife\",\"lords\",\"tywin\",\"davos\",\"something\",\"ve\",\"mean\",\"rest\",\"hall\",\"kill\",\"strong\",\"dragon\",\"began\",\"steel\",\"won\",\"sound\",\"past\",\"life\",\"tower\",\"sons\",\"killed\",\"arm\",\"free\",\"tried\",\"bear\",\"thing\",\"days\",\"bloody\",\"heart\",\"pale\",\"love\",\"sat\",\"moment\",\"bring\",\"knights\",\"close\",\"bed\",\"cut\",\"death\",\"wolf\",\"smile\",\"silver\",\"horses\",\"inside\",\"dragons\",\"four\",\"brown\",\"landing\",\"bastard\",\"hot\",\"uncle\",\"part\",\"thousand\",\"open\",\"nor\",\"captain\",\"above\",\"blue\",\"going\",\"air\",\"please\",\"river\",\"laughed\",\"rose\",\"sun\",\"fell\",\"golden\",\"war\",\"without\",\"sleep\",\"swords\",\"renly\",\"speak\",\"beyond\",\"fool\",\"full\",\"certain\",\"feel\",\"fight\",\"tongue\",\"send\",\"got\",\"thick\",\"rode\",\"set\",\"world\",\"throat\",\"deep\",\"rock\",\"legs\",\"call\",\"honor\",\"trees\",\"tall\",\"mormont\",\"table\",\"broken\",\"pulled\",\"women\",\"steps\",\"things\",\"next\",\"hodor\",\"heavy\",\"burned\",\"oh\",\"toward\",\"together\",\"given\",\"skin\",\"storm\",\"dwarf\",\"since\",\"alone\",\"smiled\",\"moved\",\"ride\",\"second\",\"raised\",\"frey\",\"ask\",\"hope\",\"eye\",\"soft\",\"reached\",\"remember\",\"remembered\",\"throne\",\"someone\",\"coming\",\"hold\",\"ten\",\"cannot\",\"meant\",\"morning\",\"teeth\",\"command\",\"else\",\"which\",\"fat\",\"walder\",\"commander\",\"jorah\",\"truth\",\"outside\",\"doubt\",\"ground\",\"known\",\"cup\",\"wore\",\"ran\",\"gate\",\"room\",\"held\",\"closed\",\"sky\",\"home\",\"matter\",\"south\",\"wed\",\"riverrun\",\"dozen\",\"people\",\"neck\",\"wood\",\"tyrell\",\"tommen\",\"instead\",\"near\",\"talk\",\"food\",\"turn\",\"none\",\"ships\",\"shadow\",\"moon\",\"summer\",\"below\",\"lips\",\"bolton\",\"varys\",\"watched\",\"leather\",\"times\",\"septon\",\"shoulder\",\"warm\",\"believe\",\"caught\",\"ice\",\"blade\",\"least\",\"guards\",\"god\",\"eddard\",\"answer\",\"wondered\",\"safe\",\"shield\",\"barristan\",\"mine\",\"opened\",\"armor\",\"daenerys\",\"six\",\"return\",\"kept\",\"wish\",\"used\",\"smell\",\"less\",\"squire\",\"being\",\"foot\",\"baratheon\",\"floor\",\"followed\",\"empty\",\"run\",\"friends\",\"wedding\",\"serve\",\"boys\",\"eat\",\"cloaks\",\"wrong\",\"beard\",\"ghost\",\"flesh\",\"sight\",\"hound\",\"strength\",\"five\",\"ship\",\"crown\",\"returned\",\"nose\",\"bones\",\"says\",\"master\",\"yellow\",\"aemon\",\"chest\",\"petyr\",\"covered\",\"filled\",\"sometimes\",\"commanded\",\"lysa\",\"friend\",\"common\",\"spoke\",\"led\",\"yours\",\"show\",\"aye\",\"flames\",\"fighting\",\"asha\",\"aside\",\"huge\",\"crow\",\"belly\",\"seem\",\"yard\",\"breath\",\"gates\",\"greyjoy\",\"waiting\",\"wet\",\"realm\",\"within\",\"looking\",\"wooden\",\"later\",\"thin\",\"bad\",\"use\",\"work\",\"husband\",\"promised\",\"wildlings\",\"grew\",\"girls\",\"loved\",\"littlefinger\",\"tree\",\"onto\",\"guard\",\"afraid\",\"bronn\",\"rain\",\"maid\",\"shoulders\",\"shouted\",\"walked\",\"year\",\"late\",\"fall\",\"dog\",\"margaery\",\"liked\",\"remained\",\"mance\",\"arryn\",\"meereen\",\"passed\",\"hurt\",\"taste\",\"dothraki\",\"balon\",\"sworn\",\"drew\",\"song\",\"lay\",\"reach\",\"princess\",\"sure\",\"named\",\"pushed\",\"realized\",\"kingdoms\",\"finally\",\"different\",\"brave\",\"heir\",\"stand\",\"whispered\",\"suddenly\",\"kingsguard\",\"wolves\",\"spear\",\"aegon\",\"poor\",\"kings\",\"ears\",\"stay\",\"drogo\",\"stop\",\"lannisters\",\"burning\",\"edmure\",\"broke\",\"born\",\"axe\",\"dorne\",\"faces\",\"direwolf\",\"clegane\",\"dream\",\"either\",\"drink\",\"tears\",\"darkness\",\"harrenhal\",\"west\",\"pointed\",\"hill\",\"raven\",\"try\",\"khal\",\"pain\",\"forward\",\"grown\",\"truly\",\"lie\",\"dagger\",\"seat\",\"care\",\"helm\",\"road\",\"round\",\"feast\",\"meat\",\"quick\",\"pycelle\",\"understand\",\"lifted\",\"amongst\",\"longer\",\"short\",\"rodrik\",\"horn\",\"mountain\",\"reminded\",\"whilst\",\"maybe\",\"third\",\"lands\",\"melisandre\",\"step\",\"pretty\",\"ones\",\"younger\",\"stopped\",\"worse\",\"bit\",\"sit\",\"victarion\",\"sharp\",\"save\",\"whose\",\"knows\",\"slain\",\"smoke\",\"targaryen\",\"live\",\"pray\",\"westeros\",\"leg\",\"window\",\"twenty\",\"pie\",\"heads\",\"silk\",\"didn\",\"east\",\"septa\",\"slaves\",\"during\",\"peace\",\"blind\",\"ago\",\"bright\",\"mind\",\"mad\",\"laugh\",\"low\",\"bread\",\"wants\",\"hizdahr\",\"salt\",\"sooner\",\"myself\",\"narrow\",\"towers\",\"older\",\"coin\",\"drowned\",\"reek\",\"making\",\"camp\",\"cousin\",\"walk\",\"served\",\"wait\",\"point\",\"glanced\",\"riding\",\"lion\",\"quiet\",\"often\",\"sort\",\"knife\",\"cheeks\",\"touched\",\"luwin\",\"shook\",\"loras\",\"stepped\",\"tully\",\"naked\",\"twisted\",\"kevan\",\"choice\",\"silence\",\"forgotten\",\"fallen\",\"hung\",\"fish\",\"read\",\"ramsay\",\"running\",\"gift\",\"replied\",\"knees\",\"rhaegar\",\"casterly\",\"cat\",\"large\",\"ahead\",\"silent\",\"fought\",\"pass\",\"dogs\",\"beautiful\",\"sept\",\"company\",\"themselves\",\"dawn\",\"needs\",\"knee\",\"mud\",\"stupid\",\"gregor\",\"body\",\"age\",\"court\",\"singer\",\"trying\",\"top\",\"swear\",\"meera\",\"chain\",\"kiss\",\"kind\",\"closer\",\"offered\",\"gendry\",\"whole\",\"leaves\",\"anything\",\"stars\",\"pay\",\"whatever\",\"threw\",\"agreed\",\"wonder\",\"mail\",\"answered\",\"climbed\",\"trident\",\"saying\",\"wide\",\"saddle\",\"clothes\",\"comes\",\"host\",\"fair\",\"trust\",\"eight\",\"fine\",\"dying\",\"pleased\",\"yourself\",\"insisted\",\"fast\",\"yunkai\",\"dry\",\"hour\",\"service\",\"stones\",\"spears\",\"ought\",\"ear\",\"fist\",\"council\",\"carried\",\"doors\",\"needed\",\"join\",\"milk\",\"thank\",\"wasn\",\"imp\",\"wildling\",\"crossed\",\"quentyn\",\"dragonstone\",\"woods\",\"folk\",\"gilly\",\"winter\",\"land\",\"shadows\",\"doing\",\"finger\",\"helped\",\"crows\",\"tent\",\"bird\",\"names\",\"boots\",\"somehow\",\"banners\",\"kissed\",\"pink\",\"letter\",\"win\",\"screamed\",\"field\",\"angry\",\"eunuch\",\"frightened\",\"learn\",\"alive\",\"daughters\",\"chair\",\"sisters\",\"tarly\",\"watching\",\"torch\",\"nine\",\"harm\",\"fires\",\"serving\",\"learned\",\"falling\",\"standing\",\"easy\",\"neither\",\"wings\",\"question\",\"myrcella\",\"line\",\"nodded\",\"sail\",\"drunk\",\"priest\",\"harbor\",\"warned\",\"forth\",\"pyke\",\"bone\",\"slow\",\"giant\",\"slipped\",\"viserys\",\"slid\",\"dreams\",\"slowly\",\"bronze\",\"flowers\",\"jojen\",\"oldtown\",\"atop\",\"promise\",\"illyrio\",\"aerys\",\"rise\",\"whore\",\"move\",\"jeyne\",\"slave\",\"laughter\",\"makes\",\"grass\",\"power\",\"declared\",\"dance\",\"loose\",\"earth\",\"faced\",\"lived\",\"bay\",\"because\",\"twice\",\"front\",\"eyrie\",\"cell\",\"happened\",\"break\",\"clean\",\"claim\",\"chains\",\"play\",\"highgarden\",\"surely\",\"fresh\",\"unless\",\"cried\",\"craster\",\"quite\",\"pair\",\"laid\",\"steward\",\"tormund\",\"sad\",\"met\",\"morrow\",\"rule\",\"shouting\",\"grenn\",\"already\",\"softly\",\"touch\",\"woke\",\"afterward\",\"sense\",\"sudden\",\"started\",\"mounted\",\"among\",\"count\",\"means\",\"ravens\"],\"x_coord\":{\"__ndarray__\":\"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\",\"dtype\":\"float32\",\"shape\":[1000]},\"y_coord\":{\"__ndarray__\":\"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\",\"dtype\":\"float32\",\"shape\":[1000]}},\"selected\":null,\"selection_policy\":null},\"id\":\"642a07f2-cde9-444e-8ea0-39329cc5aaa1\",\"type\":\"ColumnDataSource\"},{\"attributes\":{},\"id\":\"2f5df00c-b61d-4209-8912-25d092b69747\",\"type\":\"BasicTicker\"},{\"attributes\":{\"formatter\":{\"id\":\"99d87874-24a7-4815-b2c6-588bff97f2b9\",\"type\":\"BasicTickFormatter\"},\"plot\":{\"id\":\"83efc55e-a75f-459a-afe2-d011a4a17a79\",\"subtype\":\"Figure\",\"type\":\"Plot\"},\"ticker\":{\"id\":\"40b802e2-dd19-4ff6-8e7a-7a3896a6b0bf\",\"type\":\"BasicTicker\"},\"visible\":false},\"id\":\"beeec9db-bb39-4505-9b93-1e495f5db1d9\",\"type\":\"LinearAxis\"},{\"attributes\":{\"callback\":null,\"overlay\":{\"id\":\"4ea34c64-4741-4815-b6d4-cd4fee9fed35\",\"type\":\"BoxAnnotation\"},\"renderers\":[{\"id\":\"e560d17d-4bb2-4433-9f6c-55da5f6669bf\",\"type\":\"GlyphRenderer\"}]},\"id\":\"42ff8742-9990-4b5b-9fd8-140d83dc59c8\",\"type\":\"BoxSelectTool\"},{\"attributes\":{\"active_drag\":\"auto\",\"active_inspect\":\"auto\",\"active_scroll\":{\"id\":\"673516be-c6dc-43b1-9402-244e431a1f0b\",\"type\":\"WheelZoomTool\"},\"active_tap\":\"auto\",\"tools\":[{\"id\":\"4ead86c2-1966-4c5c-b762-eb515a5b479c\",\"type\":\"PanTool\"},{\"id\":\"673516be-c6dc-43b1-9402-244e431a1f0b\",\"type\":\"WheelZoomTool\"},{\"id\":\"0407bebb-772c-445a-ad44-9b9350597bbd\",\"type\":\"BoxZoomTool\"},{\"id\":\"42ff8742-9990-4b5b-9fd8-140d83dc59c8\",\"type\":\"BoxSelectTool\"},{\"id\":\"d37cf2f5-df9f-4020-b56a-679e6b45305f\",\"type\":\"ResetTool\"},{\"id\":\"95ce3057-5aba-43d2-a882-325a7ca3135d\",\"type\":\"HoverTool\"}]},\"id\":\"46a98a47-3a1a-4c17-bd3d-99d49b7a999f\",\"type\":\"Toolbar\"},{\"attributes\":{\"overlay\":{\"id\":\"024a5a20-3655-4dfe-9750-c3d7b913765e\",\"type\":\"BoxAnnotation\"}},\"id\":\"0407bebb-772c-445a-ad44-9b9350597bbd\",\"type\":\"BoxZoomTool\"},{\"attributes\":{},\"id\":\"673516be-c6dc-43b1-9402-244e431a1f0b\",\"type\":\"WheelZoomTool\"},{\"attributes\":{},\"id\":\"4ead86c2-1966-4c5c-b762-eb515a5b479c\",\"type\":\"PanTool\"}],\"root_ids\":[\"83efc55e-a75f-459a-afe2-d011a4a17a79\"]},\"title\":\"Bokeh Application\",\"version\":\"0.12.15\"}};\n",
       "  var render_items = [{\"docid\":\"df05f48b-12f6-4c65-8567-e0711174ffda\",\"elementid\":\"248ad715-86af-4ea9-996d-c15c4e2e485a\",\"modelid\":\"83efc55e-a75f-459a-afe2-d011a4a17a79\"}];\n",
       "  root.Bokeh.embed.embed_items_notebook(docs_json, render_items);\n",
       "\n",
       "  }\n",
       "  if (root.Bokeh !== undefined) {\n",
       "    embed_document(root);\n",
       "  } else {\n",
       "    var attempts = 0;\n",
       "    var timer = setInterval(function(root) {\n",
       "      if (root.Bokeh !== undefined) {\n",
       "        embed_document(root);\n",
       "        clearInterval(timer);\n",
       "      }\n",
       "      attempts++;\n",
       "      if (attempts > 100) {\n",
       "        console.log(\"Bokeh: ERROR: Unable to run BokehJS code because BokehJS library is missing\")\n",
       "        clearInterval(timer);\n",
       "      }\n",
       "    }, 10, root)\n",
       "  }\n",
       "})(window);"
      ],
      "application/vnd.bokehjs_exec.v0+json": ""
     },
     "metadata": {
      "application/vnd.bokehjs_exec.v0+json": {
       "id": "83efc55e-a75f-459a-afe2-d011a4a17a79"
      }
     },
     "output_type": "display_data"
    }
   ],
   "source": [
    "\n",
    "# add a hover tool to display words on roll-over\n",
    "tsne_plot.add_tools( HoverTool(tooltips = u'@word') )\n",
    "\n",
    "# draw the words as circles on the plot\n",
    "tsne_plot.circle(u'x_coord', u'y_coord', source=plot_data,\n",
    "                 color=u'blue', line_alpha=0.2, fill_alpha=0.1,\n",
    "                 size=10, hover_line_color=u'black')\n",
    "\n",
    "# configure visual elements of the plot\n",
    "tsne_plot.title.text_font_size = value(u'16pt')\n",
    "tsne_plot.xaxis.visible = False\n",
    "tsne_plot.yaxis.visible = False\n",
    "tsne_plot.grid.grid_line_color = None\n",
    "tsne_plot.outline_line_color = None\n",
    "\n",
    "# plot!\n",
    "show(tsne_plot);"
   ]
  },
  {
   "cell_type": "markdown",
   "metadata": {},
   "source": [
    "# Exercises\n",
    "\n",
    "* Play around with the word vectors see if you can find any intresting relationships.\n",
    "\n",
    "* Use a text of your choice from [gutenberg](http://www.gutenberg.org/wiki/Main_Page) and try to apply one of the above models to create word vectors.\n",
    "\n",
    "* Afterwards cluster the word vectors using a model from sklearn and try to visulize them."
   ]
  },
  {
   "cell_type": "markdown",
   "metadata": {},
   "source": [
    "## References\n",
    "\n",
    "\n",
    "* Text\n",
    "  * [Deep learning with python](https://www.manning.com/books/deep-learning-with-python)\n",
    "  * [Introduction to word embeddings](https://www.springboard.com/blog/introduction-word-embeddings/)\n",
    "  * [Use word embeeding layers deep in keras](https://machinelearningmastery.com/use-word-embedding-layers-deep-learning-keras/)\n",
    "  * [How to Use t-SNE Effectively](https://distill.pub/2016/misread-tsne/)\n",
    "  *[Learning word embeddings](https://lilianweng.github.io/lil-log/2017/10/15/learning-word-embedding.html)\n",
    "* Notebooks\n",
    "  * [Thrones To Vec](https://github.com/llSourcell/word_vectors_game_of_thrones-LIVE.git)\n",
    "* Videos\n",
    "  * [Word Embedding Explantion](https://www.youtube.com/watch?v=5PL0TmQhItY)\n",
    "  * [Spacy - Modern NLP in Python](https://www.youtube.com/watch?v=6zm9NC9uRkk)"
   ]
  }
 ],
 "metadata": {
  "kernelspec": {
   "display_name": "Python 3",
   "language": "python",
   "name": "python3"
  },
  "language_info": {
   "codemirror_mode": {
    "name": "ipython",
    "version": 3
   },
   "file_extension": ".py",
   "mimetype": "text/x-python",
   "name": "python",
   "nbconvert_exporter": "python",
   "pygments_lexer": "ipython3",
   "version": "3.6.4"
  }
 },
 "nbformat": 4,
 "nbformat_minor": 2
}
